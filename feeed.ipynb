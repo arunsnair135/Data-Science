{
 "cells": [
  {
   "cell_type": "code",
   "execution_count": 1,
   "id": "a5c1983b",
   "metadata": {},
   "outputs": [],
   "source": [
    "import keras\n",
    "import matplotlib.pyplot as plt"
   ]
  },
  {
   "cell_type": "code",
   "execution_count": 2,
   "id": "8db7d3e6",
   "metadata": {},
   "outputs": [],
   "source": [
    "from keras.datasets import mnist"
   ]
  },
  {
   "cell_type": "code",
   "execution_count": 3,
   "id": "6daee708",
   "metadata": {},
   "outputs": [],
   "source": [
    "(xtr,ytr),(xt,yt)=mnist.load_data()"
   ]
  },
  {
   "cell_type": "code",
   "execution_count": 4,
   "id": "5ab8c025",
   "metadata": {},
   "outputs": [],
   "source": [
    "testx=xt\n",
    "testy=yt"
   ]
  },
  {
   "cell_type": "code",
   "execution_count": 5,
   "id": "a139d58d",
   "metadata": {},
   "outputs": [
    {
     "data": {
      "image/png": "[encoded data removed]",
      "text/plain": [
       "<Figure size 640x480 with 1 Axes>"
      ]
     },
     "metadata": {},
     "output_type": "display_data"
    },
    {
     "data": {
      "image/png": "[encoded data removed]",
      "text/plain": [
       "<Figure size 640x480 with 1 Axes>"
      ]
     },
     "metadata": {},
     "output_type": "display_data"
    },
    {
     "data": {
      "image/png": "[encoded data removed]",
      "text/plain": [
       "<Figure size 640x480 with 1 Axes>"
      ]
     },
     "metadata": {},
     "output_type": "display_data"
    },
    {
     "data": {
      "image/png": "[encoded data removed]",
      "text/plain": [
       "<Figure size 640x480 with 1 Axes>"
      ]
     },
     "metadata": {},
     "output_type": "display_data"
    },
    {
     "data": {
      "image/png": "[encoded data removed]",
      "text/plain": [
       "<Figure size 640x480 with 1 Axes>"
      ]
     },
     "metadata": {},
     "output_type": "display_data"
    },
    {
     "data": {
      "image/png": "[encoded data removed]",
      "text/plain": [
       "<Figure size 640x480 with 1 Axes>"
      ]
     },
     "metadata": {},
     "output_type": "display_data"
    },
    {
     "data": {
      "image/png": "[encoded data removed]",
      "text/plain": [
       "<Figure size 640x480 with 1 Axes>"
      ]
     },
     "metadata": {},
     "output_type": "display_data"
    },
    {
     "data": {
      "image/png": "[encoded data removed]",
      "text/plain": [
       "<Figure size 640x480 with 1 Axes>"
      ]
     },
     "metadata": {},
     "output_type": "display_data"
    },
    {
     "data": {
      "image/png": "[encoded data removed]",
      "text/plain": [
       "<Figure size 640x480 with 1 Axes>"
      ]
     },
     "metadata": {},
     "output_type": "display_data"
    },
    {
     "data": {
      "image/png": "[encoded data removed]",
      "text/plain": [
       "<Figure size 640x480 with 1 Axes>"
      ]
     },
     "metadata": {},
     "output_type": "display_data"
    }
   ],
   "source": [
    "for i in range(10):\n",
    "    plt.subplot(10,2,i+1)\n",
    "    plt.imshow(xtr[i],cmap='Greys')\n",
    "    plt.axis('off')\n",
    "    plt.show()"
   ]
  },
  {
   "cell_type": "code",
   "execution_count": 6,
   "id": "d296fd0b",
   "metadata": {},
   "outputs": [
    {
     "data": {
      "text/plain": [
       "(60000, 28, 28)"
      ]
     },
     "execution_count": 6,
     "metadata": {},
     "output_type": "execute_result"
    }
   ],
   "source": [
    "xtr.shape"
   ]
  },
  {
   "cell_type": "code",
   "execution_count": 7,
   "id": "f6eda0c0",
   "metadata": {},
   "outputs": [],
   "source": [
    "xtr=xtr.reshape(60000,784,1).astype('float32')"
   ]
  },
  {
   "cell_type": "code",
   "execution_count": 8,
   "id": "a81b8cea",
   "metadata": {},
   "outputs": [
    {
     "data": {
      "text/plain": [
       "(60000, 784, 1)"
      ]
     },
     "execution_count": 8,
     "metadata": {},
     "output_type": "execute_result"
    }
   ],
   "source": [
    "xtr.shape"
   ]
  },
  {
   "cell_type": "code",
   "execution_count": 9,
   "id": "4f9b072f",
   "metadata": {},
   "outputs": [],
   "source": [
    "xt=xt.reshape(10000,784,1).astype('float32')"
   ]
  },
  {
   "cell_type": "code",
   "execution_count": 10,
   "id": "9de0f472",
   "metadata": {},
   "outputs": [
    {
     "data": {
      "text/plain": [
       "(10000, 784, 1)"
      ]
     },
     "execution_count": 10,
     "metadata": {},
     "output_type": "execute_result"
    }
   ],
   "source": [
    "xt.shape"
   ]
  },
  {
   "cell_type": "code",
   "execution_count": 11,
   "id": "176d5b9c",
   "metadata": {},
   "outputs": [],
   "source": [
    "xtr=xtr/255"
   ]
  },
  {
   "cell_type": "code",
   "execution_count": 12,
   "id": "372b827a",
   "metadata": {},
   "outputs": [],
   "source": [
    "xt=xt/255"
   ]
  },
  {
   "cell_type": "code",
   "execution_count": 13,
   "id": "b74ac229",
   "metadata": {},
   "outputs": [],
   "source": [
    "from keras.models import Sequential"
   ]
  },
  {
   "cell_type": "code",
   "execution_count": 14,
   "id": "1f066926",
   "metadata": {},
   "outputs": [],
   "source": [
    "from keras.layers import Dense"
   ]
  },
  {
   "cell_type": "code",
   "execution_count": 15,
   "id": "1f125392",
   "metadata": {},
   "outputs": [],
   "source": [
    "net1=Sequential()"
   ]
  },
  {
   "cell_type": "code",
   "execution_count": 16,
   "id": "abb91af0",
   "metadata": {},
   "outputs": [],
   "source": [
    "net1.add(Dense(64,activation='sigmoid',input_shape=(784,)))"
   ]
  },
  {
   "cell_type": "code",
   "execution_count": 17,
   "id": "d741a408",
   "metadata": {},
   "outputs": [],
   "source": [
    "net1.add(Dense(10,activation='softmax'))"
   ]
  },
  {
   "cell_type": "code",
   "execution_count": 18,
   "id": "f8d069ba",
   "metadata": {},
   "outputs": [
    {
     "name": "stdout",
     "output_type": "stream",
     "text": [
      "Model: \"sequential\"\n",
      "_________________________________________________________________\n",
      " Layer (type)                Output Shape              Param #   \n",
      "=================================================================\n",
      " dense (Dense)               (None, 64)                50240     \n",
      "                                                                 \n",
      " dense_1 (Dense)             (None, 10)                650       \n",
      "                                                                 \n",
      "=================================================================\n",
      "Total params: 50,890\n",
      "Trainable params: 50,890\n",
      "Non-trainable params: 0\n",
      "_________________________________________________________________\n"
     ]
    }
   ],
   "source": [
    "net1.summary()"
   ]
  },
  {
   "cell_type": "code",
   "execution_count": 19,
   "id": "af3257a4",
   "metadata": {},
   "outputs": [],
   "source": [
    "from tensorflow.keras.optimizers import SGD"
   ]
  },
  {
   "cell_type": "code",
   "execution_count": 20,
   "id": "84b8fa8f",
   "metadata": {},
   "outputs": [],
   "source": [
    "net1.compile(loss='mean_squared_error',optimizer=SGD(learning_rate=0.01),metrics=['accuracy'])"
   ]
  },
  {
   "cell_type": "code",
   "execution_count": 21,
   "id": "691ef775",
   "metadata": {},
   "outputs": [],
   "source": [
    "from keras import utils as np_utils"
   ]
  },
  {
   "cell_type": "code",
   "execution_count": 22,
   "id": "99edf971",
   "metadata": {},
   "outputs": [],
   "source": [
    "ytr=keras.utils.np_utils.to_categorical(ytr,10)"
   ]
  },
  {
   "cell_type": "code",
   "execution_count": 23,
   "id": "9c3fa3f0",
   "metadata": {},
   "outputs": [],
   "source": [
    "yt=keras.utils.np_utils.to_categorical(yt,10)"
   ]
  },
  {
   "cell_type": "code",
   "execution_count": 24,
   "id": "514b9ce1",
   "metadata": {},
   "outputs": [
    {
     "name": "stdout",
     "output_type": "stream",
     "text": [
      "Epoch 1/50\n",
      "480/480 - 7s - loss: 0.0927 - accuracy: 0.0968 - 7s/epoch - 14ms/step\n",
      "Epoch 2/50\n",
      "480/480 - 1s - loss: 0.0916 - accuracy: 0.1008 - 1s/epoch - 3ms/step\n",
      "Epoch 3/50\n",
      "480/480 - 2s - loss: 0.0910 - accuracy: 0.1149 - 2s/epoch - 3ms/step\n",
      "Epoch 4/50\n",
      "480/480 - 2s - loss: 0.0905 - accuracy: 0.1277 - 2s/epoch - 3ms/step\n",
      "Epoch 5/50\n",
      "480/480 - 1s - loss: 0.0901 - accuracy: 0.1480 - 1s/epoch - 3ms/step\n",
      "Epoch 6/50\n",
      "480/480 - 1s - loss: 0.0898 - accuracy: 0.1888 - 1s/epoch - 3ms/step\n",
      "Epoch 7/50\n",
      "480/480 - 2s - loss: 0.0895 - accuracy: 0.2233 - 2s/epoch - 3ms/step\n",
      "Epoch 8/50\n",
      "480/480 - 1s - loss: 0.0892 - accuracy: 0.2463 - 1s/epoch - 3ms/step\n",
      "Epoch 9/50\n",
      "480/480 - 2s - loss: 0.0889 - accuracy: 0.2638 - 2s/epoch - 3ms/step\n",
      "Epoch 10/50\n",
      "480/480 - 1s - loss: 0.0886 - accuracy: 0.2744 - 1s/epoch - 3ms/step\n",
      "Epoch 11/50\n",
      "480/480 - 1s - loss: 0.0884 - accuracy: 0.2837 - 1s/epoch - 3ms/step\n",
      "Epoch 12/50\n",
      "480/480 - 2s - loss: 0.0881 - accuracy: 0.2931 - 2s/epoch - 3ms/step\n",
      "Epoch 13/50\n",
      "480/480 - 2s - loss: 0.0878 - accuracy: 0.3002 - 2s/epoch - 3ms/step\n",
      "Epoch 14/50\n",
      "480/480 - 1s - loss: 0.0875 - accuracy: 0.3076 - 1s/epoch - 3ms/step\n",
      "Epoch 15/50\n",
      "480/480 - 2s - loss: 0.0872 - accuracy: 0.3136 - 2s/epoch - 3ms/step\n",
      "Epoch 16/50\n",
      "480/480 - 2s - loss: 0.0869 - accuracy: 0.3189 - 2s/epoch - 3ms/step\n",
      "Epoch 17/50\n",
      "480/480 - 2s - loss: 0.0865 - accuracy: 0.3295 - 2s/epoch - 3ms/step\n",
      "Epoch 18/50\n",
      "480/480 - 2s - loss: 0.0862 - accuracy: 0.3460 - 2s/epoch - 3ms/step\n",
      "Epoch 19/50\n",
      "480/480 - 2s - loss: 0.0859 - accuracy: 0.3655 - 2s/epoch - 3ms/step\n",
      "Epoch 20/50\n",
      "480/480 - 2s - loss: 0.0856 - accuracy: 0.3849 - 2s/epoch - 3ms/step\n",
      "Epoch 21/50\n",
      "480/480 - 1s - loss: 0.0852 - accuracy: 0.4017 - 1s/epoch - 3ms/step\n",
      "Epoch 22/50\n",
      "480/480 - 2s - loss: 0.0849 - accuracy: 0.4151 - 2s/epoch - 3ms/step\n",
      "Epoch 23/50\n",
      "480/480 - 1s - loss: 0.0846 - accuracy: 0.4225 - 1s/epoch - 3ms/step\n",
      "Epoch 24/50\n",
      "480/480 - 1s - loss: 0.0842 - accuracy: 0.4281 - 1s/epoch - 3ms/step\n",
      "Epoch 25/50\n",
      "480/480 - 1s - loss: 0.0839 - accuracy: 0.4334 - 1s/epoch - 3ms/step\n",
      "Epoch 26/50\n",
      "480/480 - 1s - loss: 0.0835 - accuracy: 0.4358 - 1s/epoch - 3ms/step\n",
      "Epoch 27/50\n",
      "480/480 - 2s - loss: 0.0831 - accuracy: 0.4378 - 2s/epoch - 3ms/step\n",
      "Epoch 28/50\n",
      "480/480 - 2s - loss: 0.0828 - accuracy: 0.4408 - 2s/epoch - 3ms/step\n",
      "Epoch 29/50\n",
      "480/480 - 1s - loss: 0.0824 - accuracy: 0.4431 - 1s/epoch - 3ms/step\n",
      "Epoch 30/50\n",
      "480/480 - 1s - loss: 0.0820 - accuracy: 0.4458 - 1s/epoch - 3ms/step\n",
      "Epoch 31/50\n",
      "480/480 - 1s - loss: 0.0816 - accuracy: 0.4483 - 1s/epoch - 3ms/step\n",
      "Epoch 32/50\n",
      "480/480 - 2s - loss: 0.0812 - accuracy: 0.4509 - 2s/epoch - 3ms/step\n",
      "Epoch 33/50\n",
      "480/480 - 1s - loss: 0.0807 - accuracy: 0.4538 - 1s/epoch - 2ms/step\n",
      "Epoch 34/50\n",
      "480/480 - 1s - loss: 0.0803 - accuracy: 0.4576 - 920ms/epoch - 2ms/step\n",
      "Epoch 35/50\n",
      "480/480 - 1s - loss: 0.0799 - accuracy: 0.4600 - 1s/epoch - 2ms/step\n",
      "Epoch 36/50\n",
      "480/480 - 1s - loss: 0.0794 - accuracy: 0.4646 - 1s/epoch - 2ms/step\n",
      "Epoch 37/50\n",
      "480/480 - 1s - loss: 0.0790 - accuracy: 0.4682 - 946ms/epoch - 2ms/step\n",
      "Epoch 38/50\n",
      "480/480 - 1s - loss: 0.0785 - accuracy: 0.4729 - 877ms/epoch - 2ms/step\n",
      "Epoch 39/50\n",
      "480/480 - 1s - loss: 0.0781 - accuracy: 0.4772 - 1s/epoch - 2ms/step\n",
      "Epoch 40/50\n",
      "480/480 - 1s - loss: 0.0776 - accuracy: 0.4820 - 912ms/epoch - 2ms/step\n",
      "Epoch 41/50\n",
      "480/480 - 1s - loss: 0.0771 - accuracy: 0.4868 - 927ms/epoch - 2ms/step\n",
      "Epoch 42/50\n",
      "480/480 - 1s - loss: 0.0767 - accuracy: 0.4908 - 904ms/epoch - 2ms/step\n",
      "Epoch 43/50\n",
      "480/480 - 1s - loss: 0.0762 - accuracy: 0.4963 - 974ms/epoch - 2ms/step\n",
      "Epoch 44/50\n",
      "480/480 - 1s - loss: 0.0757 - accuracy: 0.5010 - 967ms/epoch - 2ms/step\n",
      "Epoch 45/50\n",
      "480/480 - 1s - loss: 0.0752 - accuracy: 0.5070 - 1s/epoch - 2ms/step\n",
      "Epoch 46/50\n",
      "480/480 - 2s - loss: 0.0747 - accuracy: 0.5129 - 2s/epoch - 3ms/step\n",
      "Epoch 47/50\n",
      "480/480 - 2s - loss: 0.0742 - accuracy: 0.5185 - 2s/epoch - 3ms/step\n",
      "Epoch 48/50\n",
      "480/480 - 2s - loss: 0.0738 - accuracy: 0.5234 - 2s/epoch - 4ms/step\n",
      "Epoch 49/50\n",
      "480/480 - 2s - loss: 0.0733 - accuracy: 0.5288 - 2s/epoch - 4ms/step\n",
      "Epoch 50/50\n",
      "480/480 - 2s - loss: 0.0728 - accuracy: 0.5339 - 2s/epoch - 3ms/step\n"
     ]
    }
   ],
   "source": [
    "mod=net1.fit(xtr,ytr,batch_size=125,epochs=50,verbose=2)"
   ]
  },
  {
   "cell_type": "code",
   "execution_count": 25,
   "id": "4c7f7dd9",
   "metadata": {},
   "outputs": [
    {
     "data": {
      "text/plain": [
       "[<matplotlib.lines.Line2D at 0x17a10ed2f10>]"
      ]
     },
     "execution_count": 25,
     "metadata": {},
     "output_type": "execute_result"
    },
    {
     "data": {
      "image/png": "[encoded data removed]",
      "text/plain": [
       "<Figure size 640x480 with 1 Axes>"
      ]
     },
     "metadata": {},
     "output_type": "display_data"
    }
   ],
   "source": [
    "plt.plot(mod.history['accuracy'])"
   ]
  },
  {
   "cell_type": "code",
   "execution_count": 26,
   "id": "0afe479b",
   "metadata": {},
   "outputs": [
    {
     "name": "stdout",
     "output_type": "stream",
     "text": [
      "313/313 - 1s - loss: 0.0722 - accuracy: 0.5443 - 1s/epoch - 4ms/step\n"
     ]
    }
   ],
   "source": [
    "res=net1.evaluate(xt,yt,verbose=2)"
   ]
  },
  {
   "cell_type": "code",
   "execution_count": 33,
   "id": "b40e7fa9",
   "metadata": {},
   "outputs": [
    {
     "data": {
      "text/plain": [
       "<matplotlib.image.AxesImage at 0x17a1216d5e0>"
      ]
     },
     "execution_count": 33,
     "metadata": {},
     "output_type": "execute_result"
    },
    {
     "data": {
      "image/png": "[encoded data removed]",
      "text/plain": [
       "<Figure size 500x200 with 1 Axes>"
      ]
     },
     "metadata": {},
     "output_type": "display_data"
    }
   ],
   "source": [
    "plt.figure(figsize=(5,2))\n",
    "plt.imshow(testx[4])\n"
   ]
  },
  {
   "cell_type": "code",
   "execution_count": 37,
   "id": "f2d8484c",
   "metadata": {},
   "outputs": [
    {
     "name": "stdout",
     "output_type": "stream",
     "text": [
      "1/1 [==============================] - 0s 109ms/step\n"
     ]
    }
   ],
   "source": [
    "op=net1.predict((testx[4].reshape(-1,784,1).astype('float32')/255))"
   ]
  },
  {
   "cell_type": "code",
   "execution_count": 39,
   "id": "02bc759f",
   "metadata": {},
   "outputs": [],
   "source": [
    "import numpy as np"
   ]
  },
  {
   "cell_type": "code",
   "execution_count": 40,
   "id": "1d1d54b7",
   "metadata": {},
   "outputs": [
    {
     "data": {
      "text/plain": [
       "4"
      ]
     },
     "execution_count": 40,
     "metadata": {},
     "output_type": "execute_result"
    }
   ],
   "source": [
    "np.argmax(op)"
   ]
  },
  {
   "cell_type": "code",
   "execution_count": null,
   "id": "0ba5cc25",
   "metadata": {},
   "outputs": [],
   "source": []
  }
 ],
 "metadata": {
  "kernelspec": {
   "display_name": "Python 3 (ipykernel)",
   "language": "python",
   "name": "python3"
  },
  "language_info": {
   "codemirror_mode": {
    "name": "ipython",
    "version": 3
   },
   "file_extension": ".py",
   "mimetype": "text/x-python",
   "name": "python",
   "nbconvert_exporter": "python",
   "pygments_lexer": "ipython3",
   "version": "3.9.13"
  }
 },
 "nbformat": 4,
 "nbformat_minor": 5
}
